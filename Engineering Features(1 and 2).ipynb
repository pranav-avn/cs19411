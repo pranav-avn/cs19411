{
 "cells": [
  {
   "cell_type": "code",
   "execution_count": 2,
   "id": "95e71e9d",
   "metadata": {},
   "outputs": [],
   "source": [
    "import numpy as np\n",
    "import pandas as pd"
   ]
  },
  {
   "cell_type": "code",
   "execution_count": 3,
   "id": "77e6c609",
   "metadata": {},
   "outputs": [
    {
     "name": "stdout",
     "output_type": "stream",
     "text": [
      "    Age\n",
      "0    42\n",
      "1    15\n",
      "2    67\n",
      "3    55\n",
      "4     1\n",
      "5    29\n",
      "6    75\n",
      "7    89\n",
      "8     4\n",
      "9    10\n",
      "10   15\n",
      "11   38\n",
      "12   22\n",
      "13   77\n"
     ]
    }
   ],
   "source": [
    "df=pd.DataFrame({'Age':[42,15,67,55,1,29,75,89,4,10,15,38,22,77]})\n",
    "print(df)"
   ]
  },
  {
   "cell_type": "code",
   "execution_count": 5,
   "id": "18933dee",
   "metadata": {},
   "outputs": [
    {
     "name": "stdout",
     "output_type": "stream",
     "text": [
      "    Age    label\n",
      "0    42    Adult\n",
      "1    15    child\n",
      "2    67  Elderly\n",
      "3    55    Adult\n",
      "4     1     Baby\n",
      "5    29    Adult\n",
      "6    75  Elderly\n",
      "7    89  Elderly\n",
      "8     4    child\n",
      "9    10    child\n",
      "10   15    child\n",
      "11   38    Adult\n",
      "12   22    Adult\n",
      "13   77  Elderly\n"
     ]
    }
   ],
   "source": [
    "df['label']=pd.cut(x=df['Age'],bins=[0,3,17,63,99],labels =['Baby','child','Adult','Elderly'])\n",
    "print(df)"
   ]
  },
  {
   "cell_type": "code",
   "execution_count": 6,
   "id": "afa246bf",
   "metadata": {},
   "outputs": [
    {
     "name": "stdout",
     "output_type": "stream",
     "text": [
      "Adult      5\n",
      "child      4\n",
      "Elderly    4\n",
      "Baby       1\n",
      "Name: label, dtype: int64\n"
     ]
    }
   ],
   "source": [
    "print(df['label'].value_counts())"
   ]
  },
  {
   "cell_type": "code",
   "execution_count": 7,
   "id": "97d31fea",
   "metadata": {},
   "outputs": [
    {
     "name": "stdout",
     "output_type": "stream",
     "text": [
      "    Height\n",
      "0    150.4\n",
      "1    157.6\n",
      "2    170.0\n",
      "3    176.0\n",
      "4    164.2\n",
      "5    155.0\n",
      "6    159.2\n",
      "7    175.0\n",
      "8    162.4\n",
      "9    176.0\n",
      "10   153.0\n",
      "11   170.9\n"
     ]
    }
   ],
   "source": [
    "df1=pd.DataFrame({'Height':[150.4,157.6,170,176,164.2,155,159.2,175,162.4,176,153,170.9]})\n",
    "print(df1)"
   ]
  },
  {
   "cell_type": "code",
   "execution_count": 10,
   "id": "5711950b",
   "metadata": {},
   "outputs": [
    {
     "name": "stdout",
     "output_type": "stream",
     "text": [
      "    Height    Label\n",
      "0    150.4    Short\n",
      "1    157.6  Average\n",
      "2    170.0     Tall\n",
      "3    176.0     Tall\n",
      "4    164.2  Average\n",
      "5    155.0    Short\n",
      "6    159.2  Average\n",
      "7    175.0     Tall\n",
      "8    162.4  Average\n",
      "9    176.0     Tall\n",
      "10   153.0    Short\n",
      "11   170.9     Tall\n"
     ]
    }
   ],
   "source": [
    "df1['Label']=pd.cut(x=df1['Height'],bins=[150,157,169,180],labels=['Short','Average','Tall'])\n",
    "print(df1)"
   ]
  },
  {
   "cell_type": "code",
   "execution_count": 12,
   "id": "dd3ebb83",
   "metadata": {},
   "outputs": [
    {
     "name": "stdout",
     "output_type": "stream",
     "text": [
      "Tall       5\n",
      "Average    4\n",
      "Short      3\n",
      "Name: Label, dtype: int64\n"
     ]
    }
   ],
   "source": [
    "print(df1['Label'].value_counts())"
   ]
  },
  {
   "cell_type": "code",
   "execution_count": null,
   "id": "fbaef229",
   "metadata": {},
   "outputs": [],
   "source": []
  }
 ],
 "metadata": {
  "kernelspec": {
   "display_name": "Python 3 (ipykernel)",
   "language": "python",
   "name": "python3"
  },
  "language_info": {
   "codemirror_mode": {
    "name": "ipython",
    "version": 3
   },
   "file_extension": ".py",
   "mimetype": "text/x-python",
   "name": "python",
   "nbconvert_exporter": "python",
   "pygments_lexer": "ipython3",
   "version": "3.10.9"
  }
 },
 "nbformat": 4,
 "nbformat_minor": 5
}
