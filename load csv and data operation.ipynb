{
 "cells": [
  {
   "cell_type": "code",
   "execution_count": 1,
   "id": "2720ff2f",
   "metadata": {},
   "outputs": [],
   "source": [
    "import pandas as pd"
   ]
  },
  {
   "cell_type": "code",
   "execution_count": 5,
   "id": "0c1b63f8",
   "metadata": {},
   "outputs": [
    {
     "name": "stdout",
     "output_type": "stream",
     "text": [
      "    First Name  Gender  Start Date Last Login Time  Salary  Bonus %  \\\n",
      "0      Douglas    Male    8/6/1993        12:42 PM   97308    6.945   \n",
      "1       Thomas    Male   3/31/1996         6:53 AM   61933    4.170   \n",
      "2        Maria  Female   4/23/1993        11:17 AM  130590   11.858   \n",
      "3        Jerry    Male    3/4/2005         1:00 PM  138705    9.340   \n",
      "4        Larry    Male   1/24/1998         4:47 PM  101004    1.389   \n",
      "..         ...     ...         ...             ...     ...      ...   \n",
      "995      Henry     NaN  11/23/2014         6:09 AM  132483   16.655   \n",
      "996    Phillip    Male   1/31/1984         6:30 AM   42392   19.675   \n",
      "997    Russell    Male   5/20/2013        12:39 PM   96914    1.421   \n",
      "998      Larry    Male   4/20/2013         4:45 PM   60500   11.985   \n",
      "999     Albert    Male   5/15/2012         6:24 PM  129949   10.169   \n",
      "\n",
      "    Senior Management                  Team  \n",
      "0                True             Marketing  \n",
      "1                True                   NaN  \n",
      "2               False               Finance  \n",
      "3                True               Finance  \n",
      "4                True       Client Services  \n",
      "..                ...                   ...  \n",
      "995             False          Distribution  \n",
      "996             False               Finance  \n",
      "997             False               Product  \n",
      "998             False  Business Development  \n",
      "999              True                 Sales  \n",
      "\n",
      "[1000 rows x 8 columns]\n"
     ]
    }
   ],
   "source": [
    "d=pd.read_csv(r\"C:\\Users\\Tcs\\Downloads\\employees1.csv\")\n",
    "print(d)"
   ]
  },
  {
   "cell_type": "code",
   "execution_count": 7,
   "id": "82958825",
   "metadata": {},
   "outputs": [
    {
     "data": {
      "text/html": [
       "<div>\n",
       "<style scoped>\n",
       "    .dataframe tbody tr th:only-of-type {\n",
       "        vertical-align: middle;\n",
       "    }\n",
       "\n",
       "    .dataframe tbody tr th {\n",
       "        vertical-align: top;\n",
       "    }\n",
       "\n",
       "    .dataframe thead th {\n",
       "        text-align: right;\n",
       "    }\n",
       "</style>\n",
       "<table border=\"1\" class=\"dataframe\">\n",
       "  <thead>\n",
       "    <tr style=\"text-align: right;\">\n",
       "      <th></th>\n",
       "      <th>First Name</th>\n",
       "      <th>Gender</th>\n",
       "      <th>Start Date</th>\n",
       "      <th>Last Login Time</th>\n",
       "      <th>Salary</th>\n",
       "      <th>Bonus %</th>\n",
       "      <th>Senior Management</th>\n",
       "      <th>Team</th>\n",
       "    </tr>\n",
       "  </thead>\n",
       "  <tbody>\n",
       "    <tr>\n",
       "      <th>0</th>\n",
       "      <td>Douglas</td>\n",
       "      <td>Male</td>\n",
       "      <td>8/6/1993</td>\n",
       "      <td>12:42 PM</td>\n",
       "      <td>97308</td>\n",
       "      <td>6.945</td>\n",
       "      <td>True</td>\n",
       "      <td>Marketing</td>\n",
       "    </tr>\n",
       "    <tr>\n",
       "      <th>1</th>\n",
       "      <td>Thomas</td>\n",
       "      <td>Male</td>\n",
       "      <td>3/31/1996</td>\n",
       "      <td>6:53 AM</td>\n",
       "      <td>61933</td>\n",
       "      <td>4.170</td>\n",
       "      <td>True</td>\n",
       "      <td>NaN</td>\n",
       "    </tr>\n",
       "    <tr>\n",
       "      <th>2</th>\n",
       "      <td>Maria</td>\n",
       "      <td>Female</td>\n",
       "      <td>4/23/1993</td>\n",
       "      <td>11:17 AM</td>\n",
       "      <td>130590</td>\n",
       "      <td>11.858</td>\n",
       "      <td>False</td>\n",
       "      <td>Finance</td>\n",
       "    </tr>\n",
       "    <tr>\n",
       "      <th>3</th>\n",
       "      <td>Jerry</td>\n",
       "      <td>Male</td>\n",
       "      <td>3/4/2005</td>\n",
       "      <td>1:00 PM</td>\n",
       "      <td>138705</td>\n",
       "      <td>9.340</td>\n",
       "      <td>True</td>\n",
       "      <td>Finance</td>\n",
       "    </tr>\n",
       "    <tr>\n",
       "      <th>4</th>\n",
       "      <td>Larry</td>\n",
       "      <td>Male</td>\n",
       "      <td>1/24/1998</td>\n",
       "      <td>4:47 PM</td>\n",
       "      <td>101004</td>\n",
       "      <td>1.389</td>\n",
       "      <td>True</td>\n",
       "      <td>Client Services</td>\n",
       "    </tr>\n",
       "  </tbody>\n",
       "</table>\n",
       "</div>"
      ],
      "text/plain": [
       "  First Name  Gender Start Date Last Login Time  Salary  Bonus %  \\\n",
       "0    Douglas    Male   8/6/1993        12:42 PM   97308    6.945   \n",
       "1     Thomas    Male  3/31/1996         6:53 AM   61933    4.170   \n",
       "2      Maria  Female  4/23/1993        11:17 AM  130590   11.858   \n",
       "3      Jerry    Male   3/4/2005         1:00 PM  138705    9.340   \n",
       "4      Larry    Male  1/24/1998         4:47 PM  101004    1.389   \n",
       "\n",
       "  Senior Management             Team  \n",
       "0              True        Marketing  \n",
       "1              True              NaN  \n",
       "2             False          Finance  \n",
       "3              True          Finance  \n",
       "4              True  Client Services  "
      ]
     },
     "execution_count": 7,
     "metadata": {},
     "output_type": "execute_result"
    }
   ],
   "source": [
    "d.head()"
   ]
  },
  {
   "cell_type": "code",
   "execution_count": 8,
   "id": "c4619bca",
   "metadata": {},
   "outputs": [
    {
     "name": "stdout",
     "output_type": "stream",
     "text": [
      "<class 'pandas.core.frame.DataFrame'>\n",
      "RangeIndex: 1000 entries, 0 to 999\n",
      "Data columns (total 8 columns):\n",
      " #   Column             Non-Null Count  Dtype  \n",
      "---  ------             --------------  -----  \n",
      " 0   First Name         933 non-null    object \n",
      " 1   Gender             855 non-null    object \n",
      " 2   Start Date         1000 non-null   object \n",
      " 3   Last Login Time    1000 non-null   object \n",
      " 4   Salary             1000 non-null   int64  \n",
      " 5   Bonus %            1000 non-null   float64\n",
      " 6   Senior Management  933 non-null    object \n",
      " 7   Team               957 non-null    object \n",
      "dtypes: float64(1), int64(1), object(6)\n",
      "memory usage: 62.6+ KB\n"
     ]
    }
   ],
   "source": [
    "d.info()"
   ]
  },
  {
   "cell_type": "code",
   "execution_count": 11,
   "id": "e2dec2c6",
   "metadata": {},
   "outputs": [
    {
     "name": "stdout",
     "output_type": "stream",
     "text": [
      "(1000, 8)\n"
     ]
    }
   ],
   "source": [
    "print(d.shape)"
   ]
  },
  {
   "cell_type": "code",
   "execution_count": 13,
   "id": "6ed9fc4f",
   "metadata": {},
   "outputs": [
    {
     "name": "stdout",
     "output_type": "stream",
     "text": [
      "0        Male\n",
      "1        Male\n",
      "2      Female\n",
      "3        Male\n",
      "4        Male\n",
      "        ...  \n",
      "995       NaN\n",
      "996      Male\n",
      "997      Male\n",
      "998      Male\n",
      "999      Male\n",
      "Name: Gender, Length: 1000, dtype: object\n"
     ]
    }
   ],
   "source": [
    "print(d['Gender'])"
   ]
  },
  {
   "cell_type": "code",
   "execution_count": 14,
   "id": "2b322743",
   "metadata": {},
   "outputs": [
    {
     "name": "stdout",
     "output_type": "stream",
     "text": [
      "0      12:42 PM\n",
      "1       6:53 AM\n",
      "2      11:17 AM\n",
      "3       1:00 PM\n",
      "4       4:47 PM\n",
      "         ...   \n",
      "995     6:09 AM\n",
      "996     6:30 AM\n",
      "997    12:39 PM\n",
      "998     4:45 PM\n",
      "999     6:24 PM\n",
      "Name: Last Login Time, Length: 1000, dtype: object\n"
     ]
    }
   ],
   "source": [
    "print(d['Last Login Time'])"
   ]
  },
  {
   "cell_type": "code",
   "execution_count": 15,
   "id": "4331b4f7",
   "metadata": {},
   "outputs": [
    {
     "name": "stdout",
     "output_type": "stream",
     "text": [
      "    First Name  Gender  Start Date Last Login Time  Salary  Bonus %  \\\n",
      "991       Rose  Female   8/25/2002         5:12 AM  134505   11.051   \n",
      "992    Anthony    Male  10/16/2011         8:35 AM  112769   11.625   \n",
      "993       Tina  Female   5/15/1997         3:53 PM   56450   19.040   \n",
      "994     George    Male   6/21/2013         5:47 PM   98874    4.479   \n",
      "995      Henry     NaN  11/23/2014         6:09 AM  132483   16.655   \n",
      "996    Phillip    Male   1/31/1984         6:30 AM   42392   19.675   \n",
      "997    Russell    Male   5/20/2013        12:39 PM   96914    1.421   \n",
      "998      Larry    Male   4/20/2013         4:45 PM   60500   11.985   \n",
      "\n",
      "    Senior Management                  Team  \n",
      "991              True             Marketing  \n",
      "992              True               Finance  \n",
      "993              True           Engineering  \n",
      "994              True             Marketing  \n",
      "995             False          Distribution  \n",
      "996             False               Finance  \n",
      "997             False               Product  \n",
      "998             False  Business Development  \n"
     ]
    }
   ],
   "source": [
    "print(d[991:999])"
   ]
  },
  {
   "cell_type": "code",
   "execution_count": 18,
   "id": "9f129961",
   "metadata": {},
   "outputs": [
    {
     "name": "stdout",
     "output_type": "stream",
     "text": [
      "    First Name  Gender  Start Date Last Login Time  Salary  Bonus %  \\\n",
      "2        Maria  Female   4/23/1993        11:17 AM  130590   11.858   \n",
      "3        Jerry    Male    3/4/2005         1:00 PM  138705    9.340   \n",
      "9      Frances  Female    8/8/2002         6:51 AM  139852    7.524   \n",
      "18       Diana  Female  10/23/1981        10:27 AM  132940   19.082   \n",
      "23         NaN    Male   6/14/2012         4:19 PM  125792    5.042   \n",
      "..         ...     ...         ...             ...     ...      ...   \n",
      "983       John    Male  12/23/1982        10:35 PM  146907   11.738   \n",
      "987     Gloria  Female   12/8/2014         5:08 AM  136709   10.331   \n",
      "991       Rose  Female   8/25/2002         5:12 AM  134505   11.051   \n",
      "995      Henry     NaN  11/23/2014         6:09 AM  132483   16.655   \n",
      "999     Albert    Male   5/15/2012         6:24 PM  129949   10.169   \n",
      "\n",
      "    Senior Management                  Team  \n",
      "2               False               Finance  \n",
      "3                True               Finance  \n",
      "9                True  Business Development  \n",
      "18              False       Client Services  \n",
      "23                NaN                   NaN  \n",
      "..                ...                   ...  \n",
      "983             False           Engineering  \n",
      "987              True               Finance  \n",
      "991              True             Marketing  \n",
      "995             False          Distribution  \n",
      "999              True                 Sales  \n",
      "\n",
      "[241 rows x 8 columns]\n"
     ]
    }
   ],
   "source": [
    "print(d.loc[d['Salary']>120000])"
   ]
  },
  {
   "cell_type": "code",
   "execution_count": 19,
   "id": "9900b266",
   "metadata": {},
   "outputs": [
    {
     "name": "stdout",
     "output_type": "stream",
     "text": [
      "First Name                     Irene\n",
      "Gender                        Female\n",
      "Start Date                  2/4/1982\n",
      "Last Login Time              5:26 PM\n",
      "Salary                         40837\n",
      "Bonus %                       12.182\n",
      "Senior Management               True\n",
      "Team                 Client Services\n",
      "Name: 234, dtype: object\n"
     ]
    }
   ],
   "source": [
    "print(d.loc[234])"
   ]
  },
  {
   "cell_type": "code",
   "execution_count": 20,
   "id": "db60345d",
   "metadata": {},
   "outputs": [
    {
     "name": "stdout",
     "output_type": "stream",
     "text": [
      "    First Name  Gender  Start Date Last Login Time  Salary  Bonus %  \\\n",
      "0      Douglas    Male    8/6/1993        12:42 PM   97308    6.945   \n",
      "1       Thomas    Male   3/31/1996         6:53 AM   61933    4.170   \n",
      "3        Jerry    Male    3/4/2005         1:00 PM  138705    9.340   \n",
      "4        Larry    Male   1/24/1998         4:47 PM  101004    1.389   \n",
      "6         Ruby  Female   8/17/1987         4:20 PM   65476   10.012   \n",
      "..         ...     ...         ...             ...     ...      ...   \n",
      "991       Rose  Female   8/25/2002         5:12 AM  134505   11.051   \n",
      "992    Anthony    Male  10/16/2011         8:35 AM  112769   11.625   \n",
      "993       Tina  Female   5/15/1997         3:53 PM   56450   19.040   \n",
      "994     George    Male   6/21/2013         5:47 PM   98874    4.479   \n",
      "999     Albert    Male   5/15/2012         6:24 PM  129949   10.169   \n",
      "\n",
      "    Senior Management             Team  \n",
      "0                True        Marketing  \n",
      "1                True              NaN  \n",
      "3                True          Finance  \n",
      "4                True  Client Services  \n",
      "6                True          Product  \n",
      "..                ...              ...  \n",
      "991              True        Marketing  \n",
      "992              True          Finance  \n",
      "993              True      Engineering  \n",
      "994              True        Marketing  \n",
      "999              True            Sales  \n",
      "\n",
      "[468 rows x 8 columns]\n"
     ]
    }
   ],
   "source": [
    "print(d.loc[d['Senior Management']==True])"
   ]
  },
  {
   "cell_type": "code",
   "execution_count": null,
   "id": "5b9010b0",
   "metadata": {},
   "outputs": [],
   "source": []
  }
 ],
 "metadata": {
  "kernelspec": {
   "display_name": "Python 3 (ipykernel)",
   "language": "python",
   "name": "python3"
  },
  "language_info": {
   "codemirror_mode": {
    "name": "ipython",
    "version": 3
   },
   "file_extension": ".py",
   "mimetype": "text/x-python",
   "name": "python",
   "nbconvert_exporter": "python",
   "pygments_lexer": "ipython3",
   "version": "3.9.12"
  }
 },
 "nbformat": 4,
 "nbformat_minor": 5
}
