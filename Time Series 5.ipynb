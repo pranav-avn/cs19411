{
 "cells": [
  {
   "cell_type": "code",
   "execution_count": 1,
   "id": "a7fe5f77",
   "metadata": {},
   "outputs": [],
   "source": [
    "import numpy as np\n",
    "import pandas as pd\n",
    "from datetime import datetime"
   ]
  },
  {
   "cell_type": "code",
   "execution_count": 5,
   "id": "dd2a663f",
   "metadata": {},
   "outputs": [
    {
     "name": "stdout",
     "output_type": "stream",
     "text": [
      "[datetime.datetime(2020, 1, 5, 0, 0), datetime.datetime(2020, 1, 10, 0, 0), datetime.datetime(2020, 1, 15, 0, 0), datetime.datetime(2020, 1, 20, 0, 0), datetime.datetime(2020, 1, 25, 0, 0)]\n"
     ]
    }
   ],
   "source": [
    "dates=[datetime(2020,1,5),datetime(2020,1,10),datetime(2020,1,15),datetime(2020,1,20),datetime(2020,1,25)]\n",
    "print(dates)"
   ]
  },
  {
   "cell_type": "code",
   "execution_count": 6,
   "id": "a94f7aec",
   "metadata": {},
   "outputs": [
    {
     "name": "stdout",
     "output_type": "stream",
     "text": [
      "2020-01-05   -1.183078\n",
      "2020-01-10    1.166556\n",
      "2020-01-15   -0.515385\n",
      "2020-01-20   -0.138799\n",
      "2020-01-25    0.079235\n",
      "dtype: float64\n"
     ]
    }
   ],
   "source": [
    "ts=pd.Series(np.random.randn(5),index=dates)\n",
    "print(ts)"
   ]
  },
  {
   "cell_type": "code",
   "execution_count": 7,
   "id": "74493af2",
   "metadata": {},
   "outputs": [
    {
     "name": "stdout",
     "output_type": "stream",
     "text": [
      "2020-01-05   -1.183078\n",
      "2020-01-10    1.166556\n",
      "dtype: float64\n"
     ]
    }
   ],
   "source": [
    "res=ts.truncate(after=\"1/10/2020\")\n",
    "print(res)"
   ]
  },
  {
   "cell_type": "code",
   "execution_count": 9,
   "id": "ed0e1e35",
   "metadata": {},
   "outputs": [
    {
     "name": "stdout",
     "output_type": "stream",
     "text": [
      "DatetimeIndex(['2022-10-02', '2022-10-09', '2022-10-16', '2022-10-23',\n",
      "               '2022-10-30', '2022-11-06', '2022-11-13', '2022-11-20',\n",
      "               '2022-11-27', '2022-12-04'],\n",
      "              dtype='datetime64[ns]', freq='W-SUN')\n"
     ]
    }
   ],
   "source": [
    "da=pd.date_range(\"10/1/2022\",periods=10,freq=\"W-SUN\")\n",
    "print(da)"
   ]
  },
  {
   "cell_type": "code",
   "execution_count": 10,
   "id": "992c7dde",
   "metadata": {},
   "outputs": [
    {
     "name": "stdout",
     "output_type": "stream",
     "text": [
      "                   A         B         C         D\n",
      "2022-10-02 -1.779747 -0.148727 -0.919057 -0.471151\n",
      "2022-10-09  0.003491 -0.564773 -1.525401  1.187659\n",
      "2022-10-16 -1.175207 -0.402027 -0.906333 -0.828877\n",
      "2022-10-23 -1.448796 -0.683612 -0.831256  1.021549\n",
      "2022-10-30 -1.302114  0.117649  0.471575 -0.430860\n",
      "2022-11-06  0.744568 -1.094448 -0.919490 -0.714393\n",
      "2022-11-13  0.270409  0.230173 -0.094351  0.739862\n",
      "2022-11-20  2.982235 -1.328251 -0.720841 -1.138545\n",
      "2022-11-27  0.130679 -2.015083  0.039485  2.068448\n",
      "2022-12-04  1.461680  1.146635 -0.904810  0.026012\n"
     ]
    }
   ],
   "source": [
    "lomg_df=pd.DataFrame(np.random.randn(10,4),index=da,columns=list(\"ABCD\"))\n",
    "print(lomg_df)"
   ]
  },
  {
   "cell_type": "code",
   "execution_count": 12,
   "id": "af62b497",
   "metadata": {},
   "outputs": [
    {
     "name": "stdout",
     "output_type": "stream",
     "text": [
      "2020-01-01    1.511676\n",
      "2020-01-02   -0.726187\n",
      "2020-01-02   -1.550653\n",
      "2020-01-02   -0.993091\n",
      "2020-01-03   -0.709984\n",
      "dtype: float64\n"
     ]
    }
   ],
   "source": [
    "dates=pd.DatetimeIndex([\"1/1/2020\",\"1/2/2020\",\"1/2/2020\",\"1/2/2020\",\"1/3/2020\"])\n",
    "ts1=pd.Series(np.random.randn(5),index=dates)\n",
    "print(ts1)"
   ]
  },
  {
   "cell_type": "code",
   "execution_count": 15,
   "id": "33a5445c",
   "metadata": {},
   "outputs": [
    {
     "name": "stdout",
     "output_type": "stream",
     "text": [
      "2020-01-01    1\n",
      "2020-01-02    3\n",
      "2020-01-03    1\n",
      "dtype: int64\n"
     ]
    }
   ],
   "source": [
    "group=ts1.groupby(level=0)\n",
    "print(group.count())"
   ]
  },
  {
   "cell_type": "code",
   "execution_count": null,
   "id": "3f5d8bc2",
   "metadata": {},
   "outputs": [],
   "source": []
  }
 ],
 "metadata": {
  "kernelspec": {
   "display_name": "Python 3 (ipykernel)",
   "language": "python",
   "name": "python3"
  },
  "language_info": {
   "codemirror_mode": {
    "name": "ipython",
    "version": 3
   },
   "file_extension": ".py",
   "mimetype": "text/x-python",
   "name": "python",
   "nbconvert_exporter": "python",
   "pygments_lexer": "ipython3",
   "version": "3.10.9"
  }
 },
 "nbformat": 4,
 "nbformat_minor": 5
}
