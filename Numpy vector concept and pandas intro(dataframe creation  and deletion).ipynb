{
 "cells": [
  {
   "cell_type": "code",
   "execution_count": 1,
   "id": "a77492f7",
   "metadata": {},
   "outputs": [],
   "source": [
    "import numpy as np"
   ]
  },
  {
   "cell_type": "code",
   "execution_count": 2,
   "id": "a772dea9",
   "metadata": {},
   "outputs": [
    {
     "name": "stdout",
     "output_type": "stream",
     "text": [
      "90\n"
     ]
    }
   ],
   "source": [
    "a=np.array([1,2,3,4])\n",
    "b=np.array([7,8,9,10])\n",
    "print(a.dot(b))"
   ]
  },
  {
   "cell_type": "code",
   "execution_count": 3,
   "id": "48b2f8a7",
   "metadata": {},
   "outputs": [
    {
     "name": "stdout",
     "output_type": "stream",
     "text": [
      "(array([1, 3], dtype=int64),)\n"
     ]
    }
   ],
   "source": [
    "print(np.where(a%2==0))"
   ]
  },
  {
   "cell_type": "code",
   "execution_count": 5,
   "id": "f725125f",
   "metadata": {},
   "outputs": [
    {
     "name": "stdout",
     "output_type": "stream",
     "text": [
      "(array([0, 1, 2], dtype=int64),)\n"
     ]
    }
   ],
   "source": [
    "print(np.where(a<4))"
   ]
  },
  {
   "cell_type": "code",
   "execution_count": 7,
   "id": "68e57c8a",
   "metadata": {},
   "outputs": [
    {
     "name": "stdout",
     "output_type": "stream",
     "text": [
      "[ 4 27 35 26]\n"
     ]
    }
   ],
   "source": [
    "def gll(e,f):\n",
    "    if e>f:\n",
    "        return e*f\n",
    "    else:\n",
    "        return e+f\n",
    "x=[1,4,7,9]\n",
    "y=[3,23,5,17]\n",
    "vec=np.vectorize(gll)\n",
    "print(vec(x,y))"
   ]
  },
  {
   "cell_type": "code",
   "execution_count": 8,
   "id": "a75480eb",
   "metadata": {},
   "outputs": [],
   "source": [
    "# Basics of pandas --------------------------------------------------\n",
    "import pandas as pd"
   ]
  },
  {
   "cell_type": "code",
   "execution_count": 12,
   "id": "5493c4cd",
   "metadata": {},
   "outputs": [
    {
     "name": "stdout",
     "output_type": "stream",
     "text": [
      "Empty DataFrame\n",
      "Columns: []\n",
      "Index: []\n"
     ]
    }
   ],
   "source": [
    "#Empty dataframe\n",
    "d=pd.DataFrame()\n",
    "print(d)"
   ]
  },
  {
   "cell_type": "code",
   "execution_count": 17,
   "id": "92fa1813",
   "metadata": {},
   "outputs": [
    {
     "name": "stdout",
     "output_type": "stream",
     "text": [
      "      Fruits  Cost\n",
      "0    Avocado   250\n",
      "1  Blueberry   217\n",
      "2      Melon   120\n",
      "3     Orange    75\n",
      "4       Kiwi   156\n"
     ]
    }
   ],
   "source": [
    "Fruits=pd.Series(['Avocado','Blueberry','Melon','Orange','Kiwi'])\n",
    "Cost=pd.Series([250,217,120,75,156])\n",
    "frame={'Fruits':Fruits,'Cost':Cost}\n",
    "result=pd.DataFrame(frame)\n",
    "print(result)"
   ]
  },
  {
   "cell_type": "code",
   "execution_count": 18,
   "id": "d935ebe5",
   "metadata": {},
   "outputs": [
    {
     "name": "stdout",
     "output_type": "stream",
     "text": [
      "      Fruits  Cost  stock\n",
      "0    Avocado   250     11\n",
      "1  Blueberry   217     24\n",
      "2      Melon   120      8\n",
      "3     Orange    75     56\n",
      "4       Kiwi   156     27\n"
     ]
    }
   ],
   "source": [
    "result['stock']=pd.Series([11,24,8,56,27])\n",
    "print(result)"
   ]
  },
  {
   "cell_type": "code",
   "execution_count": 20,
   "id": "07dfd8d7",
   "metadata": {},
   "outputs": [
    {
     "name": "stdout",
     "output_type": "stream",
     "text": [
      "Fruits    Orange\n",
      "Cost          75\n",
      "stock         56\n",
      "Name: 3, dtype: object\n"
     ]
    }
   ],
   "source": [
    "print(result.loc[3])"
   ]
  },
  {
   "cell_type": "code",
   "execution_count": 21,
   "id": "c94db252",
   "metadata": {},
   "outputs": [
    {
     "name": "stdout",
     "output_type": "stream",
     "text": [
      "      Fruits  Cost\n",
      "0    Avocado   250\n",
      "1  Blueberry   217\n",
      "2      Melon   120\n",
      "3     Orange    75\n",
      "4       Kiwi   156\n"
     ]
    }
   ],
   "source": [
    "del result['stock']\n",
    "print(result)"
   ]
  },
  {
   "cell_type": "code",
   "execution_count": null,
   "id": "67ba1407",
   "metadata": {},
   "outputs": [],
   "source": []
  }
 ],
 "metadata": {
  "kernelspec": {
   "display_name": "Python 3 (ipykernel)",
   "language": "python",
   "name": "python3"
  },
  "language_info": {
   "codemirror_mode": {
    "name": "ipython",
    "version": 3
   },
   "file_extension": ".py",
   "mimetype": "text/x-python",
   "name": "python",
   "nbconvert_exporter": "python",
   "pygments_lexer": "ipython3",
   "version": "3.9.12"
  }
 },
 "nbformat": 4,
 "nbformat_minor": 5
}
