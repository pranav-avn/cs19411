{
 "cells": [
  {
   "cell_type": "code",
   "execution_count": 1,
   "id": "a4f533dd",
   "metadata": {},
   "outputs": [],
   "source": [
    "import  numpy as np\n",
    "import pandas as pd"
   ]
  },
  {
   "cell_type": "code",
   "execution_count": 6,
   "id": "4416e43e",
   "metadata": {},
   "outputs": [],
   "source": [
    "f=open(\"D:/textfile.txt\",'w')\n",
    "f.write(\"Line no 1 \\n\")\n",
    "f.write(\"Line no 2 \\n\")\n",
    "f.write(\"Line no 3 \\n\")\n",
    "f.close()\n"
   ]
  },
  {
   "cell_type": "code",
   "execution_count": 7,
   "id": "aba2ab78",
   "metadata": {},
   "outputs": [
    {
     "name": "stdout",
     "output_type": "stream",
     "text": [
      "Line no 1 \n",
      "\n",
      "Line no 2 \n",
      "\n",
      "Line no 3 \n",
      "\n"
     ]
    }
   ],
   "source": [
    "k=open(\"D:/textfile.txt\",'r')\n",
    "print(k.readline())\n",
    "print(k.readline())\n",
    "print(k.readline())\n",
    "k.close()"
   ]
  },
  {
   "cell_type": "code",
   "execution_count": 8,
   "id": "c21da352",
   "metadata": {},
   "outputs": [],
   "source": [
    "g=open(\"D:/textfile.txt\",'a')\n",
    "g.write(\" fodosss \\n\")\n",
    "g.write(\"God of war \\n\")\n",
    "g.close()"
   ]
  },
  {
   "cell_type": "code",
   "execution_count": 9,
   "id": "8eec77f7",
   "metadata": {},
   "outputs": [],
   "source": [
    "import json"
   ]
  },
  {
   "cell_type": "code",
   "execution_count": 10,
   "id": "0a8d83a2",
   "metadata": {},
   "outputs": [],
   "source": [
    "x='{\"name\":\"john\",\"age\":30,\"city\":\"Egypt\"}'"
   ]
  },
  {
   "cell_type": "code",
   "execution_count": 11,
   "id": "241ed47c",
   "metadata": {},
   "outputs": [],
   "source": [
    "y=json.loads(x)"
   ]
  },
  {
   "cell_type": "code",
   "execution_count": 12,
   "id": "97ebde7e",
   "metadata": {},
   "outputs": [
    {
     "name": "stdout",
     "output_type": "stream",
     "text": [
      "Egypt\n"
     ]
    }
   ],
   "source": [
    "print(y['city'])"
   ]
  },
  {
   "cell_type": "code",
   "execution_count": 13,
   "id": "025989f0",
   "metadata": {},
   "outputs": [],
   "source": [
    "z='{\"name\":\"joker\",\"age\":26,\"city\":\"Gotham\"}'"
   ]
  },
  {
   "cell_type": "code",
   "execution_count": 15,
   "id": "95ef555f",
   "metadata": {},
   "outputs": [],
   "source": [
    "o=json.dumps(z)"
   ]
  },
  {
   "cell_type": "code",
   "execution_count": 16,
   "id": "64de304f",
   "metadata": {},
   "outputs": [
    {
     "name": "stdout",
     "output_type": "stream",
     "text": [
      "\"{\\\"name\\\":\\\"joker\\\",\\\"age\\\":26,\\\"city\\\":\\\"Gotham\\\"}\"\n"
     ]
    }
   ],
   "source": [
    "print(o)"
   ]
  },
  {
   "cell_type": "code",
   "execution_count": 20,
   "id": "06551c88",
   "metadata": {},
   "outputs": [
    {
     "name": "stdout",
     "output_type": "stream",
     "text": [
      "\"{\\\"name\\\":\\\"john\\\",\\\"age\\\":30,\\\"city\\\":\\\"Egypt\\\"}\"\n"
     ]
    }
   ],
   "source": [
    "h=json.dumps(x)\n",
    "print(h)"
   ]
  },
  {
   "cell_type": "code",
   "execution_count": null,
   "id": "1c03a56f",
   "metadata": {},
   "outputs": [],
   "source": []
  }
 ],
 "metadata": {
  "kernelspec": {
   "display_name": "Python 3 (ipykernel)",
   "language": "python",
   "name": "python3"
  },
  "language_info": {
   "codemirror_mode": {
    "name": "ipython",
    "version": 3
   },
   "file_extension": ".py",
   "mimetype": "text/x-python",
   "name": "python",
   "nbconvert_exporter": "python",
   "pygments_lexer": "ipython3",
   "version": "3.10.9"
  }
 },
 "nbformat": 4,
 "nbformat_minor": 5
}
