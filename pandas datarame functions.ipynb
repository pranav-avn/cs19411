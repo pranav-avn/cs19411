{
 "cells": [
  {
   "cell_type": "code",
   "execution_count": 1,
   "id": "a47b4b95",
   "metadata": {},
   "outputs": [],
   "source": [
    "import numpy as np\n",
    "import pandas as pd"
   ]
  },
  {
   "cell_type": "code",
   "execution_count": 3,
   "id": "dd34b32b",
   "metadata": {},
   "outputs": [
    {
     "name": "stdout",
     "output_type": "stream",
     "text": [
      "   p   q   r\n",
      "0  1   2   3\n",
      "1  4   7   6\n",
      "2  9  12  14\n"
     ]
    }
   ],
   "source": [
    "info =pd.DataFrame([[1,2,3],[4,7,6],[9,12,14]],columns=['p','q','r'])\n",
    "print(info)"
   ]
  },
  {
   "cell_type": "code",
   "execution_count": 4,
   "id": "44813c14",
   "metadata": {},
   "outputs": [
    {
     "name": "stdout",
     "output_type": "stream",
     "text": [
      "     p         q         r\n",
      "0  1.0  1.414214  1.732051\n",
      "1  2.0  2.645751  2.449490\n",
      "2  3.0  3.464102  3.741657\n"
     ]
    }
   ],
   "source": [
    "print(info.apply(np.sqrt))"
   ]
  },
  {
   "cell_type": "code",
   "execution_count": 5,
   "id": "352bc70c",
   "metadata": {},
   "outputs": [
    {
     "name": "stdout",
     "output_type": "stream",
     "text": [
      "p    14\n",
      "q    21\n",
      "r    23\n",
      "dtype: int64\n"
     ]
    }
   ],
   "source": [
    "print(info.apply(np.sum,axis=0))"
   ]
  },
  {
   "cell_type": "code",
   "execution_count": 6,
   "id": "ba7ceb0c",
   "metadata": {},
   "outputs": [
    {
     "name": "stdout",
     "output_type": "stream",
     "text": [
      "0     6\n",
      "1    17\n",
      "2    35\n",
      "dtype: int64\n"
     ]
    }
   ],
   "source": [
    "print(info.apply(np.sum,axis=1))"
   ]
  },
  {
   "cell_type": "code",
   "execution_count": 7,
   "id": "45551348",
   "metadata": {},
   "outputs": [
    {
     "name": "stdout",
     "output_type": "stream",
     "text": [
      "     p   q   r\n",
      "min  1   2   3\n",
      "max  9  12  14\n"
     ]
    }
   ],
   "source": [
    "print(info.agg(['min','max']))"
   ]
  },
  {
   "cell_type": "code",
   "execution_count": 10,
   "id": "99d02354",
   "metadata": {},
   "outputs": [
    {
     "name": "stdout",
     "output_type": "stream",
     "text": [
      "    Name  Insurance  Term\n",
      "0   Alan      30000    15\n",
      "1   Asuk      10000     7\n",
      "2  Light      70000    30\n"
     ]
    }
   ],
   "source": [
    "account=pd.DataFrame([['Alan',30000,15],['Asuk',10000,7],['Light',70000,30]],columns=['Name','Insurance','Term'])\n",
    "print(account)"
   ]
  },
  {
   "cell_type": "code",
   "execution_count": 14,
   "id": "61d02f68",
   "metadata": {},
   "outputs": [
    {
     "name": "stdout",
     "output_type": "stream",
     "text": [
      "      Name  Insurance  Term\n",
      "0     Alan      30000    15\n",
      "1     Asuk      10000     7\n",
      "2    Light      70000    30\n",
      "0  Sinjuro      40000    19\n"
     ]
    }
   ],
   "source": [
    "d2=pd.DataFrame([['Sinjuro',40000,19]],columns=['Name','Insurance','Term'])\n",
    "d3=pd.concat([account,d2])\n",
    "print(d3)"
   ]
  },
  {
   "cell_type": "code",
   "execution_count": 15,
   "id": "dddf1a72",
   "metadata": {},
   "outputs": [
    {
     "name": "stdout",
     "output_type": "stream",
     "text": [
      "      Name  Insurance  Term default\n",
      "0     Alan      30000    15     yes\n",
      "1     Asuk      10000     7      no\n",
      "2    Light      70000    30     yes\n",
      "0  Sinjuro      40000    19      no\n"
     ]
    }
   ],
   "source": [
    "print(d3.assign(default=['yes','no','yes','no']))"
   ]
  },
  {
   "cell_type": "code",
   "execution_count": 17,
   "id": "fb3427cc",
   "metadata": {},
   "outputs": [
    {
     "name": "stdout",
     "output_type": "stream",
     "text": [
      "       c0l3      col4\n",
      "3 -0.041833 -0.806660\n",
      "2 -0.358826  0.597253\n",
      "0  0.669954  0.249286\n",
      "4 -0.627388 -0.274187\n",
      "1  0.325211  0.564798\n"
     ]
    }
   ],
   "source": [
    "i=pd.DataFrame(np.random.randn(5,2),index=[3,2,0,4,1],columns=['c0l3','col4'])\n",
    "print(i)"
   ]
  },
  {
   "cell_type": "code",
   "execution_count": 18,
   "id": "6eaa9ded",
   "metadata": {},
   "outputs": [
    {
     "name": "stdout",
     "output_type": "stream",
     "text": [
      "       c0l3      col4\n",
      "0  0.669954  0.249286\n",
      "1  0.325211  0.564798\n",
      "2 -0.358826  0.597253\n",
      "3 -0.041833 -0.806660\n",
      "4 -0.627388 -0.274187\n"
     ]
    }
   ],
   "source": [
    "print(i.sort_index())"
   ]
  },
  {
   "cell_type": "code",
   "execution_count": 19,
   "id": "ef9bdbb6",
   "metadata": {},
   "outputs": [
    {
     "name": "stdout",
     "output_type": "stream",
     "text": [
      "       c0l3      col4\n",
      "3 -0.041833 -0.806660\n",
      "4 -0.627388 -0.274187\n",
      "0  0.669954  0.249286\n",
      "1  0.325211  0.564798\n",
      "2 -0.358826  0.597253\n"
     ]
    }
   ],
   "source": [
    "print(i.sort_values(by='col4'))"
   ]
  },
  {
   "cell_type": "code",
   "execution_count": 20,
   "id": "364cd476",
   "metadata": {},
   "outputs": [
    {
     "name": "stdout",
     "output_type": "stream",
     "text": [
      "       c0l3      col4\n",
      "3 -0.041833 -0.806660\n",
      "2 -0.358826  0.597253\n",
      "0  0.669954  0.249286\n",
      "4 -0.627388 -0.274187\n",
      "1  0.325211  0.564798\n"
     ]
    }
   ],
   "source": [
    "i2=pd.DataFrame(np.random.randn(5,2),index=[3,2,0,4,1],columns=['c0l1','col2'])\n",
    "print(i)"
   ]
  },
  {
   "cell_type": "code",
   "execution_count": null,
   "id": "7ef4e163",
   "metadata": {},
   "outputs": [],
   "source": []
  },
  {
   "cell_type": "code",
   "execution_count": null,
   "id": "90dd9651",
   "metadata": {},
   "outputs": [],
   "source": []
  }
 ],
 "metadata": {
  "kernelspec": {
   "display_name": "Python 3 (ipykernel)",
   "language": "python",
   "name": "python3"
  },
  "language_info": {
   "codemirror_mode": {
    "name": "ipython",
    "version": 3
   },
   "file_extension": ".py",
   "mimetype": "text/x-python",
   "name": "python",
   "nbconvert_exporter": "python",
   "pygments_lexer": "ipython3",
   "version": "3.9.12"
  }
 },
 "nbformat": 4,
 "nbformat_minor": 5
}
