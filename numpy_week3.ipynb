{
 "cells": [
  {
   "cell_type": "code",
   "execution_count": 1,
   "id": "80d9f0b6-59e2-4694-b04c-0d0643efd96c",
   "metadata": {},
   "outputs": [],
   "source": [
    "import numpy as np"
   ]
  },
  {
   "cell_type": "code",
   "execution_count": 4,
   "id": "c5e02bf0-acab-4d6f-acd6-990b8e96c58a",
   "metadata": {},
   "outputs": [
    {
     "data": {
      "text/plain": [
       "(array([1, 2, 3, 4, 5, 4, 4]), (array([3, 5, 6]),))"
      ]
     },
     "execution_count": 4,
     "metadata": {},
     "output_type": "execute_result"
    }
   ],
   "source": [
    "#indexes where the values are even\n",
    "arr = np.array([1,2,3,4,5,4,4])\n",
    "x = np.where(arr==4)\n",
    "arr, x"
   ]
  },
  {
   "cell_type": "code",
   "execution_count": 5,
   "id": "7de783a6-9f60-45e3-b693-5895907350ca",
   "metadata": {},
   "outputs": [
    {
     "data": {
      "text/plain": [
       "(array([1, 2, 3, 4, 5, 6, 7, 8]), (array([1, 3, 5, 7]),))"
      ]
     },
     "execution_count": 5,
     "metadata": {},
     "output_type": "execute_result"
    }
   ],
   "source": [
    "#indexes where values are even\n",
    "arr = np.array([1,2,3,4,5,6,7,8])\n",
    "x = np.where(arr%2==0)\n",
    "arr, x"
   ]
  },
  {
   "cell_type": "code",
   "execution_count": 6,
   "id": "88473d23-57af-4824-bb11-2ba12d7135b0",
   "metadata": {},
   "outputs": [
    {
     "data": {
      "text/plain": [
       "np.int64(2)"
      ]
     },
     "execution_count": 6,
     "metadata": {},
     "output_type": "execute_result"
    }
   ],
   "source": [
    "#indexes where the value 3 should be inserted\n",
    "x = np.searchsorted(arr, 3, side='left')\n",
    "x"
   ]
  },
  {
   "cell_type": "code",
   "execution_count": 8,
   "id": "26583b0a-3d73-4180-9b36-11bbc13fb67b",
   "metadata": {},
   "outputs": [
    {
     "data": {
      "text/plain": [
       "(array([3, 2, 0, 1]), array([0, 1, 2, 3]))"
      ]
     },
     "execution_count": 8,
     "metadata": {},
     "output_type": "execute_result"
    }
   ],
   "source": [
    "#sorting\n",
    "arr = np.array([3,2,0,1])\n",
    "arr, np.sort(arr)"
   ]
  },
  {
   "cell_type": "code",
   "execution_count": 9,
   "id": "fc4275c5-4a05-460b-b364-e341894b821a",
   "metadata": {},
   "outputs": [
    {
     "data": {
      "text/plain": [
       "(array([[3, 2, 4],\n",
       "        [5, 0, 1]]),\n",
       " array([[2, 3, 4],\n",
       "        [0, 1, 5]]))"
      ]
     },
     "execution_count": 9,
     "metadata": {},
     "output_type": "execute_result"
    }
   ],
   "source": [
    "arr = np.array([[3,2,4], [5,0,1]])\n",
    "arr, np.sort(arr)"
   ]
  },
  {
   "cell_type": "code",
   "execution_count": 10,
   "id": "b9e2777c-f90e-4d5f-9019-0606c0334ce9",
   "metadata": {},
   "outputs": [
    {
     "data": {
      "text/plain": [
       "(array([41, 42, 43, 44]), [True, False, True, False], array([41, 43]))"
      ]
     },
     "execution_count": 10,
     "metadata": {},
     "output_type": "execute_result"
    }
   ],
   "source": [
    "#filter\n",
    "arr = np.array([41,42,43,44])\n",
    "x = [True, False, True, False]\n",
    "newarr = arr[x]\n",
    "arr, x, newarr"
   ]
  },
  {
   "cell_type": "code",
   "execution_count": 11,
   "id": "71999a47-cd14-4ff4-ae3b-d5a5214f7231",
   "metadata": {},
   "outputs": [
    {
     "data": {
      "text/plain": [
       "(array([41, 42, 43, 44]), array([False, False,  True,  True]), array([43, 44]))"
      ]
     },
     "execution_count": 11,
     "metadata": {},
     "output_type": "execute_result"
    }
   ],
   "source": [
    "arr = np.array([41,42,43,44])\n",
    "filter_arr = arr > 42\n",
    "newarr = arr[filter_arr]\n",
    "arr, filter_arr, newarr"
   ]
  }
 ],
 "metadata": {
  "kernelspec": {
   "display_name": "Python 3 (ipykernel)",
   "language": "python",
   "name": "python3"
  },
  "language_info": {
   "codemirror_mode": {
    "name": "ipython",
    "version": 3
   },
   "file_extension": ".py",
   "mimetype": "text/x-python",
   "name": "python",
   "nbconvert_exporter": "python",
   "pygments_lexer": "ipython3",
   "version": "3.9.12"
  }
 },
 "nbformat": 4,
 "nbformat_minor": 5
}
