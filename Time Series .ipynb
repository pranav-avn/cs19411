{
 "cells": [
  {
   "cell_type": "code",
   "execution_count": 1,
   "id": "4be0c0e6",
   "metadata": {},
   "outputs": [],
   "source": [
    "import datetime"
   ]
  },
  {
   "cell_type": "code",
   "execution_count": 3,
   "id": "21e0c49d",
   "metadata": {},
   "outputs": [
    {
     "name": "stdout",
     "output_type": "stream",
     "text": [
      "today : 2024-11-07 12:16:24.962362\n"
     ]
    }
   ],
   "source": [
    "res=datetime.datetime.now()\n",
    "print(\"today :\",res)"
   ]
  },
  {
   "cell_type": "code",
   "execution_count": 4,
   "id": "4a6a5a62",
   "metadata": {},
   "outputs": [
    {
     "name": "stdout",
     "output_type": "stream",
     "text": [
      "2024-11-07 12:17:05.285408\n"
     ]
    }
   ],
   "source": [
    "today=datetime.datetime.today()\n",
    "print(today)"
   ]
  },
  {
   "cell_type": "code",
   "execution_count": 6,
   "id": "e711f936",
   "metadata": {},
   "outputs": [
    {
     "name": "stdout",
     "output_type": "stream",
     "text": [
      "2024-11-08 12:17:05.285408\n"
     ]
    }
   ],
   "source": [
    "tomorrow=today+datetime.timedelta(days=1)\n",
    "print(tomorrow)"
   ]
  },
  {
   "cell_type": "code",
   "execution_count": 7,
   "id": "d515a587",
   "metadata": {},
   "outputs": [
    {
     "name": "stdout",
     "output_type": "stream",
     "text": [
      "2024-11-06 12:17:05.285408\n"
     ]
    }
   ],
   "source": [
    "yesterday= today-datetime.timedelta(days=1)\n",
    "print(yesterday)"
   ]
  },
  {
   "cell_type": "code",
   "execution_count": 9,
   "id": "ec623ed7",
   "metadata": {},
   "outputs": [
    {
     "name": "stdout",
     "output_type": "stream",
     "text": [
      "2020-06-08 23:10:25.404040\n"
     ]
    }
   ],
   "source": [
    "res1=datetime.datetime(2020,6,8,23,10,25,404040)\n",
    "print(res1)"
   ]
  },
  {
   "cell_type": "code",
   "execution_count": 11,
   "id": "71424e1a",
   "metadata": {},
   "outputs": [
    {
     "name": "stdout",
     "output_type": "stream",
     "text": [
      "2002-12-26\n"
     ]
    }
   ],
   "source": [
    "from datetime import date\n",
    "d=date(2002,12,31)\n",
    "print(d.replace(day=26))"
   ]
  },
  {
   "cell_type": "code",
   "execution_count": 12,
   "id": "4bdb0bac",
   "metadata": {},
   "outputs": [
    {
     "name": "stdout",
     "output_type": "stream",
     "text": [
      "2005-12-31\n"
     ]
    }
   ],
   "source": [
    "print(d.replace(year=2005))"
   ]
  },
  {
   "cell_type": "code",
   "execution_count": 13,
   "id": "2bd6a504",
   "metadata": {},
   "outputs": [
    {
     "name": "stdout",
     "output_type": "stream",
     "text": [
      "Tue Dec 31 00:00:00 2002\n"
     ]
    }
   ],
   "source": [
    "d=date(2002,12,31).ctime()\n",
    "print(d)"
   ]
  },
  {
   "cell_type": "code",
   "execution_count": 14,
   "id": "78fa6463",
   "metadata": {},
   "outputs": [
    {
     "name": "stdout",
     "output_type": "stream",
     "text": [
      "2024-11-07\n",
      "2024\n",
      "11\n",
      "7\n"
     ]
    }
   ],
   "source": [
    "today=date.today()\n",
    "print(today)\n",
    "print(today.year)\n",
    "print(today.month)\n",
    "print(today.day)"
   ]
  },
  {
   "cell_type": "code",
   "execution_count": 17,
   "id": "8acc807c",
   "metadata": {},
   "outputs": [
    {
     "name": "stdout",
     "output_type": "stream",
     "text": [
      "24\n"
     ]
    }
   ],
   "source": [
    "cd=datetime.datetime.now()\n",
    "res2=cd.strftime(\"%y\")\n",
    "print(res2)"
   ]
  },
  {
   "cell_type": "code",
   "execution_count": 18,
   "id": "9f2180f0",
   "metadata": {},
   "outputs": [
    {
     "name": "stdout",
     "output_type": "stream",
     "text": [
      "11\n"
     ]
    }
   ],
   "source": [
    "res3=cd.strftime(\"%m\")\n",
    "print(res3)"
   ]
  },
  {
   "cell_type": "code",
   "execution_count": 19,
   "id": "64dcc4f2",
   "metadata": {},
   "outputs": [
    {
     "name": "stdout",
     "output_type": "stream",
     "text": [
      "Nov\n"
     ]
    }
   ],
   "source": [
    "res4=cd.strftime(\"%b\")\n",
    "print(res4)"
   ]
  },
  {
   "cell_type": "code",
   "execution_count": 20,
   "id": "4757db7d",
   "metadata": {},
   "outputs": [
    {
     "name": "stdout",
     "output_type": "stream",
     "text": [
      "November\n"
     ]
    }
   ],
   "source": [
    "res5=cd.strftime(\"%B\")\n",
    "print(res5)"
   ]
  },
  {
   "cell_type": "code",
   "execution_count": 21,
   "id": "6b5a27d9",
   "metadata": {},
   "outputs": [
    {
     "name": "stdout",
     "output_type": "stream",
     "text": [
      "312\n"
     ]
    }
   ],
   "source": [
    "res6=cd.strftime(\"%j\")\n",
    "print(res6)"
   ]
  },
  {
   "cell_type": "code",
   "execution_count": 22,
   "id": "9d98d52b",
   "metadata": {},
   "outputs": [
    {
     "name": "stdout",
     "output_type": "stream",
     "text": [
      "11/07/24\n"
     ]
    }
   ],
   "source": [
    "res6=cd.strftime(\"%D\")\n",
    "print(res6)"
   ]
  },
  {
   "cell_type": "code",
   "execution_count": 23,
   "id": "bf0cbf5d",
   "metadata": {},
   "outputs": [
    {
     "name": "stdout",
     "output_type": "stream",
     "text": [
      "Thu\n"
     ]
    }
   ],
   "source": [
    "res7=cd.strftime(\"%a\")\n",
    "print(res7)"
   ]
  },
  {
   "cell_type": "code",
   "execution_count": 25,
   "id": "703ba1b5",
   "metadata": {},
   "outputs": [
    {
     "name": "stdout",
     "output_type": "stream",
     "text": [
      "Thursday\n"
     ]
    }
   ],
   "source": [
    "res8=cd.strftime(\"%A\")\n",
    "print(res8)"
   ]
  },
  {
   "cell_type": "code",
   "execution_count": 26,
   "id": "d7d74e08",
   "metadata": {},
   "outputs": [
    {
     "name": "stdout",
     "output_type": "stream",
     "text": [
      "12\n"
     ]
    }
   ],
   "source": [
    "res9=cd.strftime(\"%H\")\n",
    "print(res9)"
   ]
  },
  {
   "cell_type": "code",
   "execution_count": 27,
   "id": "cf74682b",
   "metadata": {},
   "outputs": [
    {
     "name": "stdout",
     "output_type": "stream",
     "text": [
      "12\n"
     ]
    }
   ],
   "source": [
    "res10=cd.strftime(\"%I\")\n",
    "print(res10)"
   ]
  },
  {
   "cell_type": "code",
   "execution_count": 28,
   "id": "51d2f24c",
   "metadata": {},
   "outputs": [
    {
     "name": "stdout",
     "output_type": "stream",
     "text": [
      "31\n"
     ]
    }
   ],
   "source": [
    "res11=cd.strftime(\"%M\")\n",
    "print(res11)"
   ]
  },
  {
   "cell_type": "code",
   "execution_count": 32,
   "id": "a972cc35",
   "metadata": {},
   "outputs": [
    {
     "name": "stdout",
     "output_type": "stream",
     "text": [
      "12\n"
     ]
    }
   ],
   "source": [
    "res12=cd.strftime(\"%S\")\n",
    "print(res12)"
   ]
  },
  {
   "cell_type": "code",
   "execution_count": 33,
   "id": "78fd3edc",
   "metadata": {},
   "outputs": [
    {
     "name": "stdout",
     "output_type": "stream",
     "text": [
      "2024-11-07\n"
     ]
    }
   ],
   "source": [
    "res13=cd.strftime(\"%F\")\n",
    "print(res13)"
   ]
  },
  {
   "cell_type": "code",
   "execution_count": 34,
   "id": "80199d1e",
   "metadata": {},
   "outputs": [
    {
     "name": "stdout",
     "output_type": "stream",
     "text": [
      "882238\n"
     ]
    }
   ],
   "source": [
    "res14=cd.strftime(\"%f\")\n",
    "print(res14)"
   ]
  },
  {
   "cell_type": "code",
   "execution_count": 35,
   "id": "1e390577",
   "metadata": {},
   "outputs": [
    {
     "name": "stdout",
     "output_type": "stream",
     "text": [
      "PM\n"
     ]
    }
   ],
   "source": [
    "res15=cd.strftime(\"%p\")\n",
    "print(res15)"
   ]
  },
  {
   "cell_type": "code",
   "execution_count": 36,
   "id": "b72847ce",
   "metadata": {},
   "outputs": [
    {
     "name": "stdout",
     "output_type": "stream",
     "text": [
      "11/07/24\n"
     ]
    }
   ],
   "source": [
    "res16=cd.strftime(\"%x\")\n",
    "print(res16)"
   ]
  },
  {
   "cell_type": "code",
   "execution_count": 37,
   "id": "ccad183a",
   "metadata": {},
   "outputs": [
    {
     "name": "stdout",
     "output_type": "stream",
     "text": [
      "12:31:12\n"
     ]
    }
   ],
   "source": [
    "res17=cd.strftime(\"%X\")\n",
    "print(res17)"
   ]
  },
  {
   "cell_type": "code",
   "execution_count": 41,
   "id": "e94bd2a9",
   "metadata": {},
   "outputs": [],
   "source": [
    "import pandas as pd\n",
    "from datetime import datetime\n",
    "import numpy as np"
   ]
  },
  {
   "cell_type": "code",
   "execution_count": 42,
   "id": "9e5c5217",
   "metadata": {},
   "outputs": [
    {
     "name": "stdout",
     "output_type": "stream",
     "text": [
      "2011-01-02    0.257465\n",
      "2011-01-05    1.226337\n",
      "2011-01-07   -2.046807\n",
      "2011-01-08   -0.792193\n",
      "2011-01-11    1.355588\n",
      "dtype: float64\n"
     ]
    }
   ],
   "source": [
    "dates=[datetime(2011,1,2),datetime(2011,1,5),datetime(2011,1,7),datetime(2011,1,8),datetime(2011,1,11)]\n",
    "ts=pd.Series(np.random.randn(5),index=dates)\n",
    "print(ts)"
   ]
  },
  {
   "cell_type": "code",
   "execution_count": 44,
   "id": "23082eac",
   "metadata": {},
   "outputs": [
    {
     "name": "stdout",
     "output_type": "stream",
     "text": [
      "2011-01-07 00:00:00\n"
     ]
    }
   ],
   "source": [
    "stamp=ts.index[2]\n",
    "print(stamp)"
   ]
  },
  {
   "cell_type": "code",
   "execution_count": 46,
   "id": "17ba11a9",
   "metadata": {},
   "outputs": [
    {
     "name": "stdout",
     "output_type": "stream",
     "text": [
      "2000-01-01    1.286100\n",
      "2000-01-02    0.245434\n",
      "2000-01-03    1.705776\n",
      "2000-01-04   -0.492130\n",
      "2000-01-05    0.117799\n",
      "                ...   \n",
      "2002-09-22    0.479502\n",
      "2002-09-23    0.134733\n",
      "2002-09-24   -0.397703\n",
      "2002-09-25    0.412978\n",
      "2002-09-26   -1.517391\n",
      "Freq: D, Length: 1000, dtype: float64\n"
     ]
    }
   ],
   "source": [
    "longer_ts=pd.Series(np.random.randn(1000),index=pd.date_range(\"2000-01-01\",periods=1000))\n",
    "print(longer_ts)"
   ]
  },
  {
   "cell_type": "code",
   "execution_count": 48,
   "id": "dcec8593",
   "metadata": {},
   "outputs": [
    {
     "name": "stdout",
     "output_type": "stream",
     "text": [
      "2001-01-01    1.722875\n",
      "2001-01-02    1.052128\n",
      "2001-01-03    0.767110\n",
      "2001-01-04    0.108304\n",
      "2001-01-05    1.640155\n",
      "                ...   \n",
      "2001-12-27   -1.937690\n",
      "2001-12-28   -0.855890\n",
      "2001-12-29   -0.831620\n",
      "2001-12-30    0.750855\n",
      "2001-12-31   -0.715463\n",
      "Freq: D, Length: 365, dtype: float64\n"
     ]
    }
   ],
   "source": [
    "print(longer_ts[\"2001\"])"
   ]
  },
  {
   "cell_type": "code",
   "execution_count": 49,
   "id": "2276bd13",
   "metadata": {},
   "outputs": [
    {
     "name": "stdout",
     "output_type": "stream",
     "text": [
      "2001-06-01    0.265368\n",
      "2001-06-02    2.123191\n",
      "2001-06-03   -1.052504\n",
      "2001-06-04   -0.493393\n",
      "2001-06-05    0.435952\n",
      "2001-06-06   -0.996903\n",
      "2001-06-07   -0.120279\n",
      "2001-06-08   -0.382373\n",
      "2001-06-09   -0.203081\n",
      "2001-06-10   -0.191538\n",
      "2001-06-11    0.473640\n",
      "2001-06-12   -2.274213\n",
      "2001-06-13   -0.589884\n",
      "2001-06-14    0.857999\n",
      "2001-06-15    0.206935\n",
      "2001-06-16    0.964696\n",
      "2001-06-17   -0.109959\n",
      "2001-06-18    0.008348\n",
      "2001-06-19   -0.757185\n",
      "2001-06-20   -0.811430\n",
      "2001-06-21   -0.930428\n",
      "2001-06-22   -0.377388\n",
      "2001-06-23    0.899798\n",
      "2001-06-24    0.073442\n",
      "2001-06-25    0.727150\n",
      "2001-06-26    0.243797\n",
      "2001-06-27   -1.110843\n",
      "2001-06-28   -0.223165\n",
      "2001-06-29    0.289298\n",
      "2001-06-30    0.381302\n",
      "Freq: D, dtype: float64\n"
     ]
    }
   ],
   "source": [
    "print(longer_ts[\"2001-06\"])"
   ]
  },
  {
   "cell_type": "code",
   "execution_count": 50,
   "id": "6ef4735c",
   "metadata": {},
   "outputs": [
    {
     "name": "stdout",
     "output_type": "stream",
     "text": [
      "2001-01-01    1.722875\n",
      "2001-01-02    1.052128\n",
      "2001-01-03    0.767110\n",
      "2001-01-04    0.108304\n",
      "2001-01-05    1.640155\n",
      "Freq: D, dtype: float64\n"
     ]
    }
   ],
   "source": [
    "print(longer_ts[\"2001\"].head())"
   ]
  },
  {
   "cell_type": "code",
   "execution_count": 52,
   "id": "e44ebe8a",
   "metadata": {},
   "outputs": [
    {
     "name": "stdout",
     "output_type": "stream",
     "text": [
      "0.2923425672414968\n"
     ]
    }
   ],
   "source": [
    "print(longer_ts[datetime(2000,8,8)])"
   ]
  },
  {
   "cell_type": "code",
   "execution_count": 56,
   "id": "84702b70",
   "metadata": {},
   "outputs": [
    {
     "name": "stdout",
     "output_type": "stream",
     "text": [
      "DatetimeIndex(['2020-09-06', '2020-09-07', '2020-09-08', '2020-09-09',\n",
      "               '2020-09-10', '2020-09-11', '2020-09-12', '2020-09-13',\n",
      "               '2020-09-14', '2020-09-15',\n",
      "               ...\n",
      "               '2021-08-29', '2021-08-30', '2021-08-31', '2021-09-01',\n",
      "               '2021-09-02', '2021-09-03', '2021-09-04', '2021-09-05',\n",
      "               '2021-09-06', '2021-09-07'],\n",
      "              dtype='datetime64[ns]', length=367, freq='D')\n"
     ]
    }
   ],
   "source": [
    "rand=pd.date_range(\"2020-09-06\",\"2021-09-07\")\n",
    "print(rand)"
   ]
  },
  {
   "cell_type": "code",
   "execution_count": 54,
   "id": "d9bdc93e",
   "metadata": {},
   "outputs": [
    {
     "name": "stdout",
     "output_type": "stream",
     "text": [
      "DatetimeIndex(['2020-09-06', '2020-09-07', '2020-09-08', '2020-09-09',\n",
      "               '2020-09-10', '2020-09-11', '2020-09-12', '2020-09-13',\n",
      "               '2020-09-14', '2020-09-15'],\n",
      "              dtype='datetime64[ns]', freq='D')\n"
     ]
    }
   ],
   "source": [
    "ran=pd.date_range(\"2020-09-06\",periods=10)\n",
    "print(ran)"
   ]
  },
  {
   "cell_type": "code",
   "execution_count": 55,
   "id": "16693ba7",
   "metadata": {},
   "outputs": [
    {
     "name": "stdout",
     "output_type": "stream",
     "text": [
      "DatetimeIndex(['2020-09-06 00:00:00', '2020-09-06 01:00:00',\n",
      "               '2020-09-06 02:00:00', '2020-09-06 03:00:00',\n",
      "               '2020-09-06 04:00:00', '2020-09-06 05:00:00',\n",
      "               '2020-09-06 06:00:00', '2020-09-06 07:00:00',\n",
      "               '2020-09-06 08:00:00', '2020-09-06 09:00:00'],\n",
      "              dtype='datetime64[ns]', freq='H')\n"
     ]
    }
   ],
   "source": [
    "rad=pd.date_range(\"2020-09-06\",periods=10,freq='H')\n",
    "print(rad)"
   ]
  },
  {
   "cell_type": "code",
   "execution_count": 57,
   "id": "8f819211",
   "metadata": {},
   "outputs": [
    {
     "name": "stdout",
     "output_type": "stream",
     "text": [
      "DatetimeIndex(['2020-09-30', '2020-10-31', '2020-11-30', '2020-12-31',\n",
      "               '2021-01-31', '2021-02-28', '2021-03-31', '2021-04-30',\n",
      "               '2021-05-31', '2021-06-30'],\n",
      "              dtype='datetime64[ns]', freq='M')\n"
     ]
    }
   ],
   "source": [
    "radn=pd.date_range(\"2020-09-06\",periods=10,freq='M')\n",
    "print(radn)"
   ]
  },
  {
   "cell_type": "code",
   "execution_count": 59,
   "id": "e567fe56",
   "metadata": {},
   "outputs": [
    {
     "name": "stdout",
     "output_type": "stream",
     "text": [
      "TimedeltaIndex(['0 days 00:00:00', '0 days 01:00:00', '0 days 02:00:00',\n",
      "                '0 days 03:00:00', '0 days 04:00:00', '0 days 05:00:00',\n",
      "                '0 days 06:00:00', '0 days 07:00:00', '0 days 08:00:00',\n",
      "                '0 days 09:00:00'],\n",
      "               dtype='timedelta64[ns]', freq='H')\n"
     ]
    }
   ],
   "source": [
    "rannd=pd.timedelta_range(0,periods=10,freq='H')\n",
    "print(rannd)"
   ]
  },
  {
   "cell_type": "code",
   "execution_count": null,
   "id": "f0e0ee87",
   "metadata": {},
   "outputs": [],
   "source": []
  }
 ],
 "metadata": {
  "kernelspec": {
   "display_name": "Python 3 (ipykernel)",
   "language": "python",
   "name": "python3"
  },
  "language_info": {
   "codemirror_mode": {
    "name": "ipython",
    "version": 3
   },
   "file_extension": ".py",
   "mimetype": "text/x-python",
   "name": "python",
   "nbconvert_exporter": "python",
   "pygments_lexer": "ipython3",
   "version": "3.10.9"
  }
 },
 "nbformat": 4,
 "nbformat_minor": 5
}
