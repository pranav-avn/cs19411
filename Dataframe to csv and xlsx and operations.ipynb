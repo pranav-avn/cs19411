{
 "cells": [
  {
   "cell_type": "code",
   "execution_count": 1,
   "id": "afabfc38",
   "metadata": {},
   "outputs": [],
   "source": [
    "import pandas as pd"
   ]
  },
  {
   "cell_type": "code",
   "execution_count": 2,
   "id": "7fce3818",
   "metadata": {},
   "outputs": [
    {
     "name": "stdout",
     "output_type": "stream",
     "text": [
      "      Stock markets  Performance in % Leading performing stock  \\\n",
      "0  Shangai Exchange                56                      BYD   \n",
      "1         Dow jones                45           Morgan Stanley   \n",
      "2             NIFTY                72                Hindustan   \n",
      "3            SENSEX                65             Adani cement   \n",
      "4            NASDAQ                81                 Alphabet   \n",
      "5               RIO                90                     Nike   \n",
      "6            London                64                 Barclays   \n",
      "\n",
      "  Investors confidence in market  \n",
      "0                            yes  \n",
      "1                             no  \n",
      "2                            yes  \n",
      "3                             no  \n",
      "4                            yes  \n",
      "5                            yes  \n",
      "6                             no  \n"
     ]
    }
   ],
   "source": [
    "data=pd.DataFrame({\n",
    "    'Stock markets':['Shangai Exchange',\"Dow jones\",'NIFTY','SENSEX','NASDAQ','RIO','London'],\n",
    "    'Performance in %':[56,45,72,65,81,90,64],\n",
    "    'Leading performing stock':['BYD','Morgan Stanley','Hindustan','Adani cement','Alphabet','Nike','Barclays'],\n",
    "    'Investors confidence in market':['yes','no','yes','no','yes','yes','no']\n",
    "})\n",
    "print(data)"
   ]
  },
  {
   "cell_type": "code",
   "execution_count": 7,
   "id": "805e6299",
   "metadata": {},
   "outputs": [],
   "source": [
    "data.to_excel('d:\\stockmarkets.xlsx',sheet_name='stockmarkets')"
   ]
  },
  {
   "cell_type": "code",
   "execution_count": 10,
   "id": "569bfdc7",
   "metadata": {},
   "outputs": [
    {
     "name": "stdout",
     "output_type": "stream",
     "text": [
      "      Stock markets  Performance in % Leading performing stock  \\\n",
      "1         Dow jones                45           Morgan Stanley   \n",
      "0  Shangai Exchange                56                      BYD   \n",
      "6            London                64                 Barclays   \n",
      "3            SENSEX                65             Adani cement   \n",
      "2             NIFTY                72                Hindustan   \n",
      "4            NASDAQ                81                 Alphabet   \n",
      "5               RIO                90                     Nike   \n",
      "\n",
      "  Investors confidence in market  \n",
      "1                             no  \n",
      "0                            yes  \n",
      "6                             no  \n",
      "3                             no  \n",
      "2                            yes  \n",
      "4                            yes  \n",
      "5                            yes  \n"
     ]
    }
   ],
   "source": [
    "a=data.sort_values(['Performance in %'])\n",
    "print(a)"
   ]
  },
  {
   "cell_type": "code",
   "execution_count": 11,
   "id": "2a8cd198",
   "metadata": {},
   "outputs": [],
   "source": [
    "a.to_excel('d:\\stockmarkets.xlsx',sheet_name='stockmarkets')"
   ]
  },
  {
   "cell_type": "code",
   "execution_count": 12,
   "id": "82de1bb6",
   "metadata": {},
   "outputs": [
    {
     "name": "stdout",
     "output_type": "stream",
     "text": [
      "['Stock markets', 'Performance in %', 'Leading performing stock', 'Investors confidence in market']\n"
     ]
    }
   ],
   "source": [
    "print(list(a))"
   ]
  },
  {
   "cell_type": "code",
   "execution_count": 13,
   "id": "2b36c9c0",
   "metadata": {},
   "outputs": [
    {
     "name": "stdout",
     "output_type": "stream",
     "text": [
      "['Stock markets', 'Performance in %', 'Leading performing stock', 'Investors confidence in market']\n"
     ]
    }
   ],
   "source": [
    "print(format(list(a)))"
   ]
  },
  {
   "cell_type": "code",
   "execution_count": 17,
   "id": "da9aea5b",
   "metadata": {},
   "outputs": [
    {
     "name": "stdout",
     "output_type": "stream",
     "text": [
      "  Stock markets  Performance in % Leading performing stock  \\\n",
      "0      Japanese                31                     Sony   \n",
      "1     Singapore                60           Morgan Stanley   \n",
      "2        Zurich                87                    Roche   \n",
      "3     Stuttgart                56                 Mercedes   \n",
      "4       Vietnam                59                     Nike   \n",
      "\n",
      "  Investors confidence in market  \n",
      "0                             no  \n",
      "1                            yes  \n",
      "2                            yes  \n",
      "3                            yes  \n",
      "4                             no  \n"
     ]
    }
   ],
   "source": [
    "b=pd.DataFrame({\n",
    "    'Stock markets':['Japanese','Singapore','Zurich','Stuttgart','Vietnam'],\n",
    "    'Performance in %':[31,60,87,56,59],\n",
    "    'Leading performing stock':['Sony','Morgan Stanley','Roche','Mercedes','Nike'],\n",
    "    'Investors confidence in market':['no','yes','yes','yes','no']\n",
    "})\n",
    "print(b)"
   ]
  },
  {
   "cell_type": "code",
   "execution_count": 18,
   "id": "fca488da",
   "metadata": {},
   "outputs": [],
   "source": [
    "b.to_excel('d:\\stockmarkets2.xlsx',sheet_name='stockmarkets2')"
   ]
  },
  {
   "cell_type": "code",
   "execution_count": 22,
   "id": "b95ed88e",
   "metadata": {},
   "outputs": [
    {
     "name": "stdout",
     "output_type": "stream",
     "text": [
      "   Unnamed: 0 Stock markets  Performance in % Leading performing stock  \\\n",
      "0           0      Japanese                31                     Sony   \n",
      "1           1     Singapore                60           Morgan Stanley   \n",
      "2           2        Zurich                87                    Roche   \n",
      "3           3     Stuttgart                56                 Mercedes   \n",
      "4           4       Vietnam                59                     Nike   \n",
      "\n",
      "  Investors confidence in market  \n",
      "0                             no  \n",
      "1                            yes  \n",
      "2                            yes  \n",
      "3                            yes  \n",
      "4                             no  \n"
     ]
    }
   ],
   "source": [
    "v=pd.read_excel('d:\\stockmarkets2.xlsx')\n",
    "print(v)"
   ]
  },
  {
   "cell_type": "code",
   "execution_count": 26,
   "id": "08b6247d",
   "metadata": {},
   "outputs": [
    {
     "name": "stdout",
     "output_type": "stream",
     "text": [
      "   Unnamed: 0     Stock markets  Performance in % Leading performing stock  \\\n",
      "0           1         Dow jones                45           Morgan Stanley   \n",
      "1           0  Shangai Exchange                56                      BYD   \n",
      "2           6            London                64                 Barclays   \n",
      "3           3            SENSEX                65             Adani cement   \n",
      "4           2             NIFTY                72                Hindustan   \n",
      "5           4            NASDAQ                81                 Alphabet   \n",
      "6           5               RIO                90                     Nike   \n",
      "\n",
      "  Investors confidence in market  \n",
      "0                             no  \n",
      "1                            yes  \n",
      "2                             no  \n",
      "3                             no  \n",
      "4                            yes  \n",
      "5                            yes  \n",
      "6                            yes  \n"
     ]
    }
   ],
   "source": [
    "w=pd.read_excel('d:\\stockmarkets.xlsx')\n",
    "print(w)"
   ]
  },
  {
   "cell_type": "code",
   "execution_count": 34,
   "id": "f5c651c2",
   "metadata": {},
   "outputs": [],
   "source": [
    "z=pd.concat([w,v])"
   ]
  },
  {
   "cell_type": "code",
   "execution_count": 35,
   "id": "74804d9d",
   "metadata": {},
   "outputs": [],
   "source": [
    "z.to_excel('d:\\stockmarkets3.xlsx',sheet_name='stockmarkets3')"
   ]
  },
  {
   "cell_type": "code",
   "execution_count": null,
   "id": "350a7e73",
   "metadata": {},
   "outputs": [],
   "source": []
  }
 ],
 "metadata": {
  "kernelspec": {
   "display_name": "Python 3 (ipykernel)",
   "language": "python",
   "name": "python3"
  },
  "language_info": {
   "codemirror_mode": {
    "name": "ipython",
    "version": 3
   },
   "file_extension": ".py",
   "mimetype": "text/x-python",
   "name": "python",
   "nbconvert_exporter": "python",
   "pygments_lexer": "ipython3",
   "version": "3.9.12"
  }
 },
 "nbformat": 4,
 "nbformat_minor": 5
}
