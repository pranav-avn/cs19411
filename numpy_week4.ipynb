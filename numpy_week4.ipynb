{
 "cells": [
  {
   "cell_type": "code",
   "execution_count": 1,
   "id": "d0a1153f-f843-4dfe-adb7-c526d7337bf9",
   "metadata": {},
   "outputs": [],
   "source": [
    "import numpy as np"
   ]
  },
  {
   "cell_type": "code",
   "execution_count": 2,
   "id": "77301ca4-5185-436f-94fc-2b9c5e2d917f",
   "metadata": {},
   "outputs": [],
   "source": [
    "arr1 = [10,20,30,40,50]\n",
    "arr2 = [2,4,5,8,10]\n",
    "a = np.array(arr1)\n",
    "b = np.array(arr2)"
   ]
  },
  {
   "cell_type": "code",
   "execution_count": 3,
   "id": "889311bb-dfe7-4a9d-9ef2-cc9de464a3ae",
   "metadata": {},
   "outputs": [
    {
     "data": {
      "text/plain": [
       "(array([10, 20, 30, 40, 50]), array([ 2,  4,  5,  8, 10]))"
      ]
     },
     "execution_count": 3,
     "metadata": {},
     "output_type": "execute_result"
    }
   ],
   "source": [
    "a,b"
   ]
  },
  {
   "cell_type": "code",
   "execution_count": 4,
   "id": "f1877a26-f3cb-473c-bd0b-6ccd6f25ef44",
   "metadata": {},
   "outputs": [
    {
     "data": {
      "text/plain": [
       "array([12, 24, 35, 48, 60])"
      ]
     },
     "execution_count": 4,
     "metadata": {},
     "output_type": "execute_result"
    }
   ],
   "source": [
    "a+b"
   ]
  },
  {
   "cell_type": "code",
   "execution_count": 5,
   "id": "67625285-09a7-4efe-acc9-77de8194c439",
   "metadata": {},
   "outputs": [
    {
     "data": {
      "text/plain": [
       "array([ 8, 16, 25, 32, 40])"
      ]
     },
     "execution_count": 5,
     "metadata": {},
     "output_type": "execute_result"
    }
   ],
   "source": [
    "a-b"
   ]
  },
  {
   "cell_type": "code",
   "execution_count": 6,
   "id": "cad09a10-7b08-4473-a2da-dbe73c38e131",
   "metadata": {},
   "outputs": [
    {
     "data": {
      "text/plain": [
       "array([ 20,  80, 150, 320, 500])"
      ]
     },
     "execution_count": 6,
     "metadata": {},
     "output_type": "execute_result"
    }
   ],
   "source": [
    "a*b"
   ]
  },
  {
   "cell_type": "code",
   "execution_count": 7,
   "id": "95dff3ba-568b-44f8-954a-b224d4e9f93d",
   "metadata": {},
   "outputs": [
    {
     "data": {
      "text/plain": [
       "array([5., 5., 6., 5., 5.])"
      ]
     },
     "execution_count": 7,
     "metadata": {},
     "output_type": "execute_result"
    }
   ],
   "source": [
    "a/b"
   ]
  },
  {
   "cell_type": "code",
   "execution_count": 8,
   "id": "d969cd05-2fba-4b95-a6f4-3687ec6bbbe5",
   "metadata": {},
   "outputs": [
    {
     "data": {
      "text/plain": [
       "np.int64(1070)"
      ]
     },
     "execution_count": 8,
     "metadata": {},
     "output_type": "execute_result"
    }
   ],
   "source": [
    "a.dot(b)"
   ]
  },
  {
   "cell_type": "code",
   "execution_count": 9,
   "id": "6391bf00-63c4-4c84-a48c-50d897a6df26",
   "metadata": {},
   "outputs": [
    {
     "data": {
      "text/plain": [
       "(array([10, 20, 30, 40, 50]), array([ 50, 100, 150, 200, 250]))"
      ]
     },
     "execution_count": 9,
     "metadata": {},
     "output_type": "execute_result"
    }
   ],
   "source": [
    "scl = 5\n",
    "a, a*scl"
   ]
  },
  {
   "cell_type": "code",
   "execution_count": 10,
   "id": "d35d84e6-eb42-4681-a2eb-e6d9026fd1f4",
   "metadata": {},
   "outputs": [
    {
     "name": "stdout",
     "output_type": "stream",
     "text": [
      "Array 1: [10, 4, 20]\n",
      "Array 2: [2, 3, 20]\n",
      "Result:  [ 8  1 40]\n"
     ]
    }
   ],
   "source": [
    "#vectorize\n",
    "def customfunc(x,y):\n",
    "    #return x-y if x>y, otherwise return x+y\n",
    "    if x > y:\n",
    "        return x-y\n",
    "    else:\n",
    "        return x+y\n",
    "arr1 = [10,4,20]\n",
    "arr2 = [2,3,20]\n",
    "vec_func = np.vectorize(customfunc)\n",
    "print(\"Array 1:\", arr1)\n",
    "print(\"Array 2:\", arr2)\n",
    "print(\"Result: \", vec_func(arr1, arr2))"
   ]
  }
 ],
 "metadata": {
  "kernelspec": {
   "display_name": "Python 3 (ipykernel)",
   "language": "python",
   "name": "python3"
  },
  "language_info": {
   "codemirror_mode": {
    "name": "ipython",
    "version": 3
   },
   "file_extension": ".py",
   "mimetype": "text/x-python",
   "name": "python",
   "nbconvert_exporter": "python",
   "pygments_lexer": "ipython3",
   "version": "3.9.12"
  }
 },
 "nbformat": 4,
 "nbformat_minor": 5
}
